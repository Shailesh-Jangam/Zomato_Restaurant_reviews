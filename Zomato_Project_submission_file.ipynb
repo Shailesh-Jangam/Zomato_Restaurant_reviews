{
 "cells": [
  {
   "cell_type": "markdown",
   "id": "e32fd3dc",
   "metadata": {},
   "source": [
    "# Clustering and Sentiment Analysis of Zomato Restaurants"
   ]
  },
  {
   "cell_type": "markdown",
   "id": "d83f5867",
   "metadata": {},
   "source": [
    "## Objective\n",
    "- Group restaurants based on customer sentiments, pricing, and ratings using unsupervised learning.\n",
    "- Extract business insights and help Zomato identify top-performing restaurants and improvement areas."
   ]
  },
  {
   "cell_type": "markdown",
   "id": "4c9d67ea",
   "metadata": {},
   "source": [
    "## Dataset Overview\n",
    "- The dataset includes restaurant details, cost, customer reviews, and sentiments.\n",
    "- Features: `Restaurant`, `avg_rating`, `review_count`, `Sentiment`, `Cost`, `positive_ratio`, `negative_ratio`, `neutral_ratio`, etc."
   ]
  },
  {
   "cell_type": "markdown",
   "id": "fdbfcfa4",
   "metadata": {},
   "source": [
    "## Data Understanding & Preparation\n",
    "We started by importing and exploring the dataset, which includes restaurant names, reviews, cost, and average ratings. The key challenge here was that we had unstructured textual data – customer reviews – which needed to be processed before any modeling.\n",
    "\n",
    "We cleaned the data by removing nulls, converting relevant columns into numeric formats, and filtering out irrelevant or sparse rows. Then we moved on to analyzing the review text."
   ]
  },
  {
   "cell_type": "markdown",
   "id": "d2c1e8bb",
   "metadata": {},
   "source": [
    "## Exploratory Data Analysis (EDA)\n",
    "- Bar plots of sentiment vs cost revealed how customer perception varies with price.\n",
    "- Correlation heatmaps helped identify the most influential variables for clustering.\n",
    "- Countplot for simpler understanding"
   ]
  },
  {
   "cell_type": "code",
   "execution_count": null,
   "id": "6a620b9a",
   "metadata": {},
   "outputs": [],
   "source": [
    "sns.countplot(data=df, x='Sentiment')\n",
    "plt.title('Sentiment Distribution')\n",
    "plt.show()"
   ]
  },
  {
   "cell_type": "markdown",
   "id": "ac4bbd68",
   "metadata": {},
   "source": [
    "## Sentiment Analysis & Feature Engineering\n",
    "To make our reviews more meaningful, we used NLP techniques to perform sentiment analysis. Here's how:\n",
    "-Each review was passed through text preprocessing steps — lowercasing, removing punctuation, stop words, and lemmatization.\n",
    "- We then calculated sentiment scores for each review — positive, negative, and neutral — using a sentiment lexicon.\n",
    "- We created derived features: positive_ratio, negative_ratio, neutral_ratio, and also encoded overall Sentiment as Positive, Negative, or Neutral.\n",
    "We also included features like:\n",
    "- avg_rating — average customer rating.\n",
    "- review_count — number of reviews.\n",
    "- Cost — approximate cost for two people.\n",
    "\n",
    "This transformed our dataset into a structured numerical form, ready for clustering.\"\n",
    "\n"
   ]
  },
  {
   "cell_type": "code",
   "execution_count": null,
   "id": "570daa0e",
   "metadata": {},
   "outputs": [],
   "source": [
    "# Group by restaurant and calculate sentiment ratios\n",
    "grouped = df.groupby('Restaurant').agg({\n",
    "    'avg_rating': 'mean',\n",
    "    'review_count': 'sum',\n",
    "    'Cost': 'mean',\n",
    "    'Sentiment': lambda x: x.value_counts(normalize=True)\n",
    "}).unstack().fillna(0)\n",
    "\n",
    "# Flatten multiindex\n",
    "grouped.columns = ['_'.join(col).strip() for col in grouped.columns.values]\n",
    "\n",
    "# Rename sentiment ratio columns\n",
    "grouped.rename(columns={\n",
    "    'Sentiment_Negative': 'negative_ratio',\n",
    "    'Sentiment_Neutral': 'neutral_ratio',\n",
    "    'Sentiment_Positive': 'positive_ratio'\n",
    "}, inplace=True)"
   ]
  },
  {
   "cell_type": "markdown",
   "id": "d68feba6",
   "metadata": {},
   "source": [
    "## K-Means Clustering\n",
    "- To group restaurants into similar segments, we applied KMeans clustering. Here's how:\n",
    "- We scaled the numerical features using StandardScaler.\n",
    "- Used the Elbow Method to determine the optimal number of clusters.\n",
    "- Based on the elbow plot, we chose k=3 clusters.\n",
    "After applying KMeans:\n",
    "- We assigned each restaurant to a cluster using the grouped['Cluster'] column.\n",
    "- We summarized each cluster's average rating, sentiment, and cost.\n",
    "✅ For example, Cluster 0 had highly-rated and expensive restaurants, while Cluster 2 had more negative sentiments and lower ratings.\n",
    "We visualized these clusters using scatter plots for easier interpretation."
   ]
  },
  {
   "cell_type": "code",
   "execution_count": null,
   "id": "07d3f2d9",
   "metadata": {},
   "outputs": [],
   "source": [
    "# Select features for clustering\n",
    "features = grouped[['avg_rating', 'review_count', 'Cost', 'positive_ratio', 'negative_ratio', 'neutral_ratio']]\n",
    "\n",
    "# Scale the data\n",
    "scaler = StandardScaler()\n",
    "scaled_data = scaler.fit_transform(features)\n",
    "\n",
    "# Fit KMeans\n",
    "kmeans = KMeans(n_clusters=3, random_state=42)\n",
    "grouped['Cluster'] = kmeans.fit_predict(scaled_data)\n",
    "\n",
    "# Analyze clusters\n",
    "grouped.groupby('Cluster').mean()"
   ]
  },
  {
   "cell_type": "markdown",
   "id": "29f2761d",
   "metadata": {},
   "source": [
    "## Hierarchical Clustering\n",
    "- In addition to KMeans, we applied Hierarchical Clustering to see how restaurants relate to one another:\n",
    "- We used the linkage method with 'ward' distance.\n",
    "- The dendrogram helped visualize the tree of clusters.\n",
    "- This was especially useful to see which restaurants are most similar and how clusters merge at different distance thresholds.\n",
    "- This step added interpretability and confirmed the robustness of our earlier KMeans clusters."
   ]
  },
  {
   "cell_type": "code",
   "execution_count": null,
   "id": "fd4ff530",
   "metadata": {},
   "outputs": [],
   "source": [
    "# Linkage and dendrogram\n",
    "Z = linkage(scaled_data, method='ward')\n",
    "plt.figure(figsize=(12, 6))\n",
    "dendrogram(Z, labels=grouped.index.tolist(), leaf_rotation=90)\n",
    "plt.title('Hierarchical Clustering Dendrogram')\n",
    "plt.xlabel('Restaurant')\n",
    "plt.ylabel('Distance')\n",
    "plt.tight_layout()\n",
    "plt.show()"
   ]
  },
  {
   "cell_type": "markdown",
   "id": "26aecedb-1ac6-42b2-b06f-d12f765f92b6",
   "metadata": {},
   "source": [
    "## Cluster comparison\n",
    "We also created a confusion matrix-style table to compare KMeans clusters with Hierarchical clusters. This cross-tabulation gave insights into consistency between methods and helped validate our segmentation.\n",
    "\n",
    "For example, most restaurants from Cluster 0 in KMeans were also grouped together in one dendrogram branch, confirming consistency."
   ]
  },
  {
   "cell_type": "markdown",
   "id": "e329a8d0",
   "metadata": {},
   "source": [
    "## Business Insights\n",
    "- **Cluster 0**: High rating, positive reviews → Top-performing.\n",
    "- **Cluster 1**: Mixed ratings → Medium-performing.\n",
    "- **Cluster 2**: Low rating, more negative reviews → Underperforming."
   ]
  },
  {
   "cell_type": "markdown",
   "id": "68400639",
   "metadata": {},
   "source": [
    "## Recommendations\n",
    "1. Promote High-Rated, High-Cost Restaurants (Cluster 0): These are great for premium loyalty programs and influencer tie-ups.\n",
    "2. Support Affordable Yet Popular Restaurants (Cluster 1): Promote these during peak seasons or through combo offers.\n",
    "3. Rehabilitate Low-Rated Restaurants (Cluster 2): Target them with quality improvement feedback, training, or customer recovery campaigns.\n",
    "4. Use targeted marketing based on cluster performance.\n",
    "5. Partner with high-performing restaurants for Zomato Gold and premium ads.\n",
    "6. Encourage poor performers to improve by highlighting key improvement areas (cost, reviews, etc.)."
   ]
  },
  {
   "cell_type": "markdown",
   "id": "b8a9eea0",
   "metadata": {},
   "source": [
    "## Conclusion\n",
    "To conclude, this project combined natural language processing, sentiment analysis, clustering, and business intelligence to create actionable insights from unstructured review data. By grouping restaurants based on customer sentiment, cost, and quality, we can personalize marketing, improve service quality, and drive business growth.\n",
    "\n",
    "- Successfully segmented restaurants using unsupervised learning.\n",
    "- Provided actionable strategies for improving business outcomes based on clustering.\n",
    "- Extracted valuable sentiment and performance-based groupings."
   ]
  },
  {
   "cell_type": "code",
   "execution_count": null,
   "id": "023b8698-a4d8-4c4e-b58a-fb137b9e4721",
   "metadata": {},
   "outputs": [],
   "source": []
  }
 ],
 "metadata": {
  "kernelspec": {
   "display_name": "Python 3 (ipykernel)",
   "language": "python",
   "name": "python3"
  },
  "language_info": {
   "codemirror_mode": {
    "name": "ipython",
    "version": 3
   },
   "file_extension": ".py",
   "mimetype": "text/x-python",
   "name": "python",
   "nbconvert_exporter": "python",
   "pygments_lexer": "ipython3",
   "version": "3.11.7"
  }
 },
 "nbformat": 4,
 "nbformat_minor": 5
}
